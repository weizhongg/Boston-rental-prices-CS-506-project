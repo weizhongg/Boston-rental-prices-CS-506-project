{
 "cells": [
  {
   "cell_type": "markdown",
   "metadata": {},
   "source": [
    "# Scraping Zillow Property by Property"
   ]
  },
  {
   "cell_type": "code",
   "execution_count": 15,
   "metadata": {
    "collapsed": true
   },
   "outputs": [],
   "source": [
    "#import libraries\n",
    "import pandas\n",
    "import requests\n",
    "from bs4 import BeautifulSoup\n",
    "import lxml"
   ]
  },
  {
   "cell_type": "code",
   "execution_count": 16,
   "metadata": {},
   "outputs": [
    {
     "name": "stderr",
     "output_type": "stream",
     "text": [
      "C:\\Users\\StuBab\\Anaconda3\\lib\\site-packages\\IPython\\core\\interactiveshell.py:2717: DtypeWarning: Columns (60,63) have mixed types. Specify dtype option on import or set low_memory=False.\n",
      "  interactivity=interactivity, compiler=compiler, result=result)\n"
     ]
    }
   ],
   "source": [
    "#get addresses\n",
    "allProperties = pandas.read_csv('property-assessment-fy2017.csv')"
   ]
  },
  {
   "cell_type": "code",
   "execution_count": 17,
   "metadata": {
    "collapsed": true
   },
   "outputs": [],
   "source": [
    "#set URLs\n",
    "baseURL = 'http://www.zillow.com/webservice/GetDeepSearchResults.htm?zws-id=X1-ZWz18viv1r9s0b_5cfwc'\n",
    "addressURLStart = '&address='\n",
    "cityStateURLStart = '&citystatezip='"
   ]
  },
  {
   "cell_type": "code",
   "execution_count": 18,
   "metadata": {
    "collapsed": true
   },
   "outputs": [],
   "source": [
    "#parse xml\n",
    "def parseXML(response):\n",
    "    xml = response.text.encode('utf-8')\n",
    "    soup = BeautifulSoup(xml, 'lxml')\n",
    "    return soup"
   ]
  },
  {
   "cell_type": "code",
   "execution_count": 20,
   "metadata": {},
   "outputs": [
    {
     "name": "stdout",
     "output_type": "stream",
     "text": [
      "<?xml version=\"1.0\" encoding=\"utf-8\"?><html><body><searchresults:searchresults xmlns:searchresults=\"http://www.zillow.com/static/xsd/SearchResults.xsd\" xmlns:xsi=\"http://www.w3.org/2001/XMLSchema-instance\" xsi:schemalocation=\"http://www.zillow.com/static/xsd/SearchResults.xsd https://www.zillowstatic.com/vstatic/6ce354c/static/xsd/SearchResults.xsd\"><request><address></address><citystatezip></citystatezip></request><message><text>Error: this account has reached is maximum number of calls for today</text><code>7</code></message></searchresults:searchresults><!-- H:012  T:82ms  S:150  R:Wed Nov 29 12:53:30 PST 2017  B:5.0.50267.8-hotfix_2017-11-28.3ecc3df~hotfix-platform-for-2017-11-28.4b0f42f --></body></html>\n",
      "Not found. &address=195+LEXINGTON+ST\n"
     ]
    }
   ],
   "source": [
    "#loop through\n",
    "for i in range(0, 1):\n",
    "    address = allProperties['MAIL_ADDRESS'][i]\n",
    "    cityState = allProperties['MAIL CS'][i]\n",
    "    addressURL = addressURLStart + address.replace(' ', '+')\n",
    "    cityStateURL = cityStateURLStart + cityState.replace(' ', '+')\n",
    "    response = requests.get(baseURL + addressURL + cityStateURL)\n",
    "    test = parseXML(response)\n",
    "    print(test)\n",
    "    try:\n",
    "        print(addressURL, test.findAll('latitude')[0].text)\n",
    "    except:\n",
    "        print('Not found.', addressURL)"
   ]
  }
 ],
 "metadata": {
  "kernelspec": {
   "display_name": "Python 3",
   "language": "python",
   "name": "python3"
  },
  "language_info": {
   "codemirror_mode": {
    "name": "ipython",
    "version": 3
   },
   "file_extension": ".py",
   "mimetype": "text/x-python",
   "name": "python",
   "nbconvert_exporter": "python",
   "pygments_lexer": "ipython3",
   "version": "3.6.1"
  }
 },
 "nbformat": 4,
 "nbformat_minor": 2
}
